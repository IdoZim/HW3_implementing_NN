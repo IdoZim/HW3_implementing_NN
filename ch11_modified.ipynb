{
 "cells": [
  {
   "cell_type": "markdown",
   "metadata": {
    "tags": []
   },
   "source": [
    "# Machine Learning with PyTorch and Scikit-Learn  \n",
    "# -- Code Examples"
   ]
  },
  {
   "cell_type": "markdown",
   "metadata": {},
   "source": [
    "## Package version checks"
   ]
  },
  {
   "cell_type": "markdown",
   "metadata": {},
   "source": [
    "Add folder to path in order to load from the check_packages.py script:"
   ]
  },
  {
   "cell_type": "code",
   "execution_count": 112,
   "metadata": {},
   "outputs": [],
   "source": [
    "import sys\n",
    "sys.path.insert(0, '..')"
   ]
  },
  {
   "cell_type": "markdown",
   "metadata": {},
   "source": [
    "Check recommended package versions:"
   ]
  },
  {
   "cell_type": "code",
   "execution_count": 113,
   "metadata": {},
   "outputs": [
    {
     "name": "stdout",
     "output_type": "stream",
     "text": [
      "[OK] numpy 1.26.4\n",
      "[OK] matplotlib 3.9.0\n",
      "[OK] sklearn 1.5.0\n"
     ]
    }
   ],
   "source": [
    "from python_environment_check import check_packages\n",
    "\n",
    "\n",
    "d = {\n",
    "    'numpy': '1.21.2',\n",
    "    'matplotlib': '3.4.3',\n",
    "    'sklearn': '1.0',\n",
    "}\n",
    "check_packages(d)"
   ]
  },
  {
   "cell_type": "markdown",
   "metadata": {},
   "source": [
    "# Chapter 11 - Implementing a Multi-layer Artificial Neural Network from Scratch\n"
   ]
  },
  {
   "cell_type": "markdown",
   "metadata": {},
   "source": [
    "### Overview"
   ]
  },
  {
   "cell_type": "markdown",
   "metadata": {},
   "source": [
    "- [Modeling complex functions with artificial neural networks](#Modeling-complex-functions-with-artificial-neural-networks)\n",
    "  - [Single-layer neural network recap](#Single-layer-neural-network-recap)\n",
    "  - [Introducing the multi-layer neural network architecture](#Introducing-the-multi-layer-neural-network-architecture)\n",
    "  - [Activating a neural network via forward propagation](#Activating-a-neural-network-via-forward-propagation)\n",
    "- [Classifying handwritten digits](#Classifying-handwritten-digits)\n",
    "  - [Obtaining the MNIST dataset](#Obtaining-the-MNIST-dataset)\n",
    "  - [Implementing a multi-layer perceptron](#Implementing-a-multi-layer-perceptron)\n",
    "  - [Coding the neural network training loop](#Coding-the-neural-network-training-loop)\n",
    "  - [Evaluating the neural network performance](#Evaluating-the-neural-network-performance)\n",
    "- [Training an artificial neural network](#Training-an-artificial-neural-network)\n",
    "  - [Computing the loss function](#Computing-the-loss-function)\n",
    "  - [Developing your intuition for backpropagation](#Developing-your-intuition-for-backpropagation)\n",
    "  - [Training neural networks via backpropagation](#Training-neural-networks-via-backpropagation)\n",
    "- [Convergence in neural networks](#Convergence-in-neural-networks)\n",
    "- [Summary](#Summary)"
   ]
  },
  {
   "cell_type": "markdown",
   "metadata": {},
   "source": [
    "<br>\n",
    "<br>"
   ]
  },
  {
   "cell_type": "code",
   "execution_count": 114,
   "metadata": {},
   "outputs": [],
   "source": [
    "from IPython.display import Image\n",
    "%matplotlib inline"
   ]
  },
  {
   "cell_type": "markdown",
   "metadata": {},
   "source": [
    "# Modeling complex functions with artificial neural networks"
   ]
  },
  {
   "cell_type": "markdown",
   "metadata": {},
   "source": [
    "## Activating a neural network via forward propagation"
   ]
  },
  {
   "cell_type": "markdown",
   "metadata": {},
   "source": [
    "# Classifying handwritten digits"
   ]
  },
  {
   "cell_type": "markdown",
   "metadata": {},
   "source": [
    "## Obtaining and preparing the MNIST dataset"
   ]
  },
  {
   "cell_type": "markdown",
   "metadata": {},
   "source": [
    "The MNIST dataset is publicly available at http://yann.lecun.com/exdb/mnist/ and consists of the following four parts:\n",
    "\n",
    "- Training set images: train-images-idx3-ubyte.gz (9.9 MB, 47 MB unzipped, 60,000 examples)\n",
    "- Training set labels: train-labels-idx1-ubyte.gz (29 KB, 60 KB unzipped, 60,000 labels)\n",
    "- Test set images: t10k-images-idx3-ubyte.gz (1.6 MB, 7.8 MB, 10,000 examples)\n",
    "- Test set labels: t10k-labels-idx1-ubyte.gz (5 KB, 10 KB unzipped, 10,000 labels)\n",
    "\n"
   ]
  },
  {
   "cell_type": "code",
   "execution_count": 115,
   "metadata": {},
   "outputs": [
    {
     "name": "stdout",
     "output_type": "stream",
     "text": [
      "(70000, 784)\n",
      "(70000,)\n"
     ]
    }
   ],
   "source": [
    "from sklearn.datasets import fetch_openml\n",
    "\n",
    "\n",
    "X, y = fetch_openml('mnist_784', version=1, return_X_y=True)\n",
    "X = X.values\n",
    "y = y.astype(int).values\n",
    "\n",
    "print(X.shape)\n",
    "print(y.shape)"
   ]
  },
  {
   "cell_type": "markdown",
   "metadata": {},
   "source": [
    "Normalize to [-1, 1] range:"
   ]
  },
  {
   "cell_type": "code",
   "execution_count": 116,
   "metadata": {},
   "outputs": [],
   "source": [
    "X = ((X / 255.) - .5) * 2"
   ]
  },
  {
   "cell_type": "markdown",
   "metadata": {},
   "source": [
    "Visualize the first digit of each class:"
   ]
  },
  {
   "cell_type": "code",
   "execution_count": 117,
   "metadata": {},
   "outputs": [
    {
     "data": {
      "image/png": "[encoded data removed]",
      "text/plain": [
       "<Figure size 640x480 with 10 Axes>"
      ]
     },
     "metadata": {},
     "output_type": "display_data"
    }
   ],
   "source": [
    "import matplotlib.pyplot as plt\n",
    "\n",
    "fig, ax = plt.subplots(nrows=2, ncols=5, sharex=True, sharey=True)\n",
    "ax = ax.flatten()\n",
    "for i in range(10):\n",
    "    img = X[y == i][0].reshape(28, 28)\n",
    "    ax[i].imshow(img, cmap='Greys')\n",
    "\n",
    "ax[0].set_xticks([])\n",
    "ax[0].set_yticks([])\n",
    "plt.tight_layout()\n",
    "plt.show()"
   ]
  },
  {
   "cell_type": "markdown",
   "metadata": {},
   "source": [
    "Split into training, validation, and test set:"
   ]
  },
  {
   "cell_type": "code",
   "execution_count": 118,
   "metadata": {},
   "outputs": [],
   "source": [
    "from sklearn.model_selection import train_test_split\n",
    "\n",
    "\n",
    "X_temp, X_test, y_temp, y_test = train_test_split(\n",
    "    X, y, test_size=10000, random_state=123, stratify=y)\n",
    "\n",
    "X_train, X_valid, y_train, y_valid = train_test_split(\n",
    "    X_temp, y_temp, test_size=5000, random_state=123, stratify=y_temp)\n",
    "\n",
    "\n",
    "# optional to free up some memory by deleting non-used arrays:\n",
    "del X_temp, y_temp, X, y"
   ]
  },
  {
   "cell_type": "markdown",
   "metadata": {},
   "source": [
    "## Implementing a multi-layer perceptron"
   ]
  },
  {
   "cell_type": "code",
   "execution_count": 119,
   "metadata": {},
   "outputs": [],
   "source": [
    "import numpy as np"
   ]
  },
  {
   "cell_type": "code",
   "execution_count": 120,
   "metadata": {},
   "outputs": [],
   "source": [
    "##########################\n",
    "### MODEL\n",
    "##########################\n",
    "\n",
    "def sigmoid(z):                                        \n",
    "    return 1. / (1. + np.exp(-z))\n",
    "\n",
    "\n",
    "def int_to_onehot(y, num_labels):\n",
    "\n",
    "    ary = np.zeros((y.shape[0], num_labels))\n",
    "    for i, val in enumerate(y):\n",
    "        ary[i, val] = 1\n",
    "    return ary\n",
    "\n",
    "\n",
    "class NeuralNetMLP:\n",
    "\n",
    "    def __init__(self, num_features, num_hidden_f, num_hidden_s, num_classes, random_seed=123):\n",
    "        super().__init__()\n",
    "        \n",
    "        self.num_classes = num_classes\n",
    "        \n",
    "        # hidden\n",
    "        rng = np.random.RandomState(random_seed)\n",
    "        \n",
    "        # first hidden layer\n",
    "        self.weight_h = rng.normal(loc=0.0, scale=0.1, size=(num_hidden_f, num_features))\n",
    "        self.bias_h = np.zeros(num_hidden_f)\n",
    "\n",
    "        # second hidden layer\n",
    "        self.weight_s = rng.normal(loc=0.0, scale=0.1, size=(num_hidden_s, num_hidden_f))\n",
    "        self.bias_s = np.zeros(num_hidden_s)\n",
    "        \n",
    "        # output\n",
    "        self.weight_out = rng.normal(loc=0.0, scale=0.1, size=(num_classes, num_hidden_s))\n",
    "        self.bias_out = np.zeros(num_classes)\n",
    "        \n",
    "    def forward(self, x):\n",
    "        # Hidden layer\n",
    "        # input dim: [n_examples, n_features] dot [n_hidden, n_features].T\n",
    "        # output dim: [n_examples, n_hidden]\n",
    "        z_h = np.dot(x, self.weight_h.T) + self.bias_h\n",
    "        a_h = sigmoid(z_h)\n",
    "\n",
    "        # Second hidden layer\n",
    "        # input dim: [n_examples, n_hidden] dot [n_hidden, n_hidden].T\n",
    "        # output dim: [n_examples, n_hidden]\n",
    "        z_s = np.dot(a_h, self.weight_s.T) + self.bias_s\n",
    "        a_s = sigmoid(z_s)\n",
    "\n",
    "\n",
    "        # Output layer\n",
    "        # input dim: [n_examples, n_hidden] dot [n_classes, n_hidden].T\n",
    "        # output dim: [n_examples, n_classes]\n",
    "        z_out = np.dot(a_s, self.weight_out.T) + self.bias_out\n",
    "        a_out = sigmoid(z_out)\n",
    "        return a_h, a_s, a_out\n",
    "\n",
    "    def backward(self, x, a_h,a_s, a_out, y):  \n",
    "    \n",
    "        #########################\n",
    "        ### Output layer weights\n",
    "        #########################\n",
    "        \n",
    "        # onehot encoding\n",
    "        y_onehot = int_to_onehot(y, self.num_classes)\n",
    "\n",
    "        # Part 1: dLoss/dOutWeights\n",
    "        ## = dLoss/dOutAct * dOutAct/dOutNet * dOutNet/dOutWeight\n",
    "        ## where DeltaOut = dLoss/dOutAct * dOutAct/dOutNet\n",
    "        ## for convenient re-use\n",
    "        \n",
    "        # input/output dim: [n_examples, n_classes]\n",
    "        d_loss__d_a_out = 2.*(a_out - y_onehot) / y.shape[0]\n",
    "\n",
    "        # input/output dim: [n_examples, n_classes]\n",
    "        d_a_out__d_z_out = a_out * (1. - a_out) # sigmoid derivative\n",
    "\n",
    "        # output dim: [n_examples, n_classes]\n",
    "        delta_out = d_loss__d_a_out * d_a_out__d_z_out # \"delta (rule) placeholder\"\n",
    "\n",
    "        # gradient for output weights\n",
    "        # input dim: [n_classes, n_examples] dot [n_examples, n_hidden]\n",
    "        # output dim: [n_classes, n_hidden]\n",
    "        d_loss__dw_out = np.dot(delta_out.T, a_s)\n",
    "        d_loss__db_out = np.sum(delta_out, axis=0)\n",
    "        \n",
    "\n",
    "        #################################        \n",
    "        # Part 2: dLoss/dHiddenWeights\n",
    "        ## = DeltaOut * dOutNet/dHiddenAct * dHiddenAct/dHiddenNet * dHiddenNet/dWeight\n",
    "        # gradient for second hidden weights\n",
    "        \n",
    "        d_z_out__a_s = self.weight_out\n",
    "        d_loss__a_s = np.dot(delta_out, d_z_out__a_s)\n",
    "        d_a_s__d_z_s = a_s * (1. - a_s)\n",
    "        delta_s = d_loss__a_s * d_a_s__d_z_s\n",
    "        d_loss_dw_s = np.dot(delta_s.T, a_h)\n",
    "        d_loss_db_s = np.sum(delta_s, axis=0)\n",
    "\n",
    "\n",
    "\n",
    "        # [n_classes, n_hidden]\n",
    "        d_z_out__a_h = self.weight_s\n",
    "        \n",
    "        # output dim: [n_examples, n_hidden]\n",
    "        d_loss__a_h = np.dot(delta_s, d_z_out__a_h) \n",
    "        \n",
    "        # [n_examples, n_hidden]\n",
    "        d_a_h__d_z_h = a_h * (1. - a_h) # sigmoid derivative\n",
    "        \n",
    "        # [n_examples, n_features]\n",
    "        d_z_h__d_w_h = x\n",
    "        \n",
    "        # output dim: [n_hidden, n_features]\n",
    "        d_loss__d_w_h = np.dot((d_loss__a_h * d_a_h__d_z_h).T, d_z_h__d_w_h)\n",
    "        d_loss__d_b_h = np.sum((d_loss__a_h * d_a_h__d_z_h), axis=0)\n",
    "\n",
    "        return (d_loss__dw_out, d_loss__db_out,d_loss_dw_s, d_loss_db_s, \n",
    "                d_loss__d_w_h, d_loss__d_b_h)"
   ]
  },
  {
   "cell_type": "code",
   "execution_count": 121,
   "metadata": {},
   "outputs": [],
   "source": [
    "model = NeuralNetMLP(num_features=28*28,\n",
    "                     num_hidden_f=50,\n",
    "                     num_hidden_s=50,\n",
    "                     num_classes=10)"
   ]
  },
  {
   "cell_type": "markdown",
   "metadata": {},
   "source": [
    "## Coding the neural network training loop"
   ]
  },
  {
   "cell_type": "markdown",
   "metadata": {},
   "source": [
    "Defining data loaders:"
   ]
  },
  {
   "cell_type": "code",
   "execution_count": 122,
   "metadata": {},
   "outputs": [
    {
     "name": "stdout",
     "output_type": "stream",
     "text": [
      "(100, 784)\n",
      "(100,)\n"
     ]
    }
   ],
   "source": [
    "import numpy as np\n",
    "\n",
    "num_epochs = 50\n",
    "minibatch_size = 100\n",
    "\n",
    "\n",
    "def minibatch_generator(X, y, minibatch_size):\n",
    "    indices = np.arange(X.shape[0])\n",
    "    np.random.shuffle(indices)\n",
    "\n",
    "    for start_idx in range(0, indices.shape[0] - minibatch_size \n",
    "                           + 1, minibatch_size):\n",
    "        batch_idx = indices[start_idx:start_idx + minibatch_size]\n",
    "        \n",
    "        yield X[batch_idx], y[batch_idx]\n",
    "\n",
    "        \n",
    "# iterate over training epochs\n",
    "for i in range(num_epochs):\n",
    "\n",
    "    # iterate over minibatches\n",
    "    minibatch_gen = minibatch_generator(\n",
    "        X_train, y_train, minibatch_size)\n",
    "    \n",
    "    for X_train_mini, y_train_mini in minibatch_gen:\n",
    "\n",
    "        break\n",
    "        \n",
    "    break\n",
    "    \n",
    "print(X_train_mini.shape)\n",
    "print(y_train_mini.shape)"
   ]
  },
  {
   "cell_type": "markdown",
   "metadata": {},
   "source": [
    "Defining a function to compute the loss and accuracy"
   ]
  },
  {
   "cell_type": "code",
   "execution_count": 123,
   "metadata": {},
   "outputs": [
    {
     "name": "stdout",
     "output_type": "stream",
     "text": [
      "Initial validation MSE: 0.2\n",
      "Initial validation accuracy: 9.0%\n"
     ]
    }
   ],
   "source": [
    "def mse_loss(targets, probas, num_labels=10):\n",
    "    onehot_targets = int_to_onehot(targets, num_labels=num_labels)\n",
    "    return np.mean((onehot_targets - probas)**2)\n",
    "\n",
    "\n",
    "def accuracy(targets, predicted_labels):\n",
    "    return np.mean(predicted_labels == targets) \n",
    "\n",
    "\n",
    "_, _, probas = model.forward(X_valid)\n",
    "mse = mse_loss(y_valid, probas)\n",
    "\n",
    "predicted_labels = np.argmax(probas, axis=1)\n",
    "acc = accuracy(y_valid, predicted_labels)\n",
    "\n",
    "print(f'Initial validation MSE: {mse:.1f}')\n",
    "print(f'Initial validation accuracy: {acc*100:.1f}%')"
   ]
  },
  {
   "cell_type": "code",
   "execution_count": 124,
   "metadata": {},
   "outputs": [],
   "source": [
    "def compute_mse_and_acc(nnet, X, y, num_labels=10, minibatch_size=100):\n",
    "    mse, correct_pred, num_examples = 0., 0, 0\n",
    "    minibatch_gen = minibatch_generator(X, y, minibatch_size)\n",
    "        \n",
    "    for i, (features, targets) in enumerate(minibatch_gen):\n",
    "\n",
    "        _, _, probas = nnet.forward(features)\n",
    "        predicted_labels = np.argmax(probas, axis=1)\n",
    "        \n",
    "        onehot_targets = int_to_onehot(targets, num_labels=num_labels)\n",
    "        loss = np.mean((onehot_targets - probas)**2)\n",
    "        correct_pred += (predicted_labels == targets).sum()\n",
    "        \n",
    "        num_examples += targets.shape[0]\n",
    "        mse += loss\n",
    "\n",
    "    mse = mse/(i+1)\n",
    "    acc = correct_pred/num_examples\n",
    "    return mse, acc"
   ]
  },
  {
   "cell_type": "code",
   "execution_count": 125,
   "metadata": {},
   "outputs": [
    {
     "name": "stdout",
     "output_type": "stream",
     "text": [
      "Initial valid MSE: 0.2\n",
      "Initial valid accuracy: 9.0%\n"
     ]
    }
   ],
   "source": [
    "mse, acc = compute_mse_and_acc(model, X_valid, y_valid)\n",
    "print(f'Initial valid MSE: {mse:.1f}')\n",
    "print(f'Initial valid accuracy: {acc*100:.1f}%')"
   ]
  },
  {
   "cell_type": "code",
   "execution_count": 126,
   "metadata": {},
   "outputs": [],
   "source": [
    "def train(model, X_train, y_train, X_valid, y_valid, num_epochs,\n",
    "          learning_rate=0.1):\n",
    "    \n",
    "    epoch_loss = []\n",
    "    epoch_train_acc = []\n",
    "    epoch_valid_acc = []\n",
    "    \n",
    "    for e in range(num_epochs):\n",
    "\n",
    "        # iterate over minibatches\n",
    "        minibatch_gen = minibatch_generator(\n",
    "            X_train, y_train, minibatch_size)\n",
    "\n",
    "        for X_train_mini, y_train_mini in minibatch_gen:\n",
    "            \n",
    "            #### Compute outputs ####\n",
    "            a_h, a_s, a_out = model.forward(X_train_mini)\n",
    "\n",
    "            #### Compute gradients ####\n",
    "            (d_loss__d_w_out, d_loss__d_b_out,d_loss_dw_s, d_loss_db_s, \n",
    "            d_loss__d_w_h, d_loss__d_b_h) = \\\n",
    "                model.backward(X_train_mini, a_h, a_s, a_out, y_train_mini)\n",
    "\n",
    "            #### Update weights ####\n",
    "            model.weight_h -= learning_rate * d_loss__d_w_h\n",
    "            model.bias_h -= learning_rate * d_loss__d_b_h\n",
    "            model.weight_s -= learning_rate * d_loss_dw_s\n",
    "            model.bias_s -= learning_rate * d_loss_db_s\n",
    "            model.weight_out -= learning_rate * d_loss__d_w_out\n",
    "            model.bias_out -= learning_rate * d_loss__d_b_out\n",
    "        \n",
    "        #### Epoch Logging ####        \n",
    "        train_mse, train_acc = compute_mse_and_acc(model, X_train, y_train)\n",
    "        valid_mse, valid_acc = compute_mse_and_acc(model, X_valid, y_valid)\n",
    "        train_acc, valid_acc = train_acc*100, valid_acc*100\n",
    "        epoch_train_acc.append(train_acc)\n",
    "        epoch_valid_acc.append(valid_acc)\n",
    "        epoch_loss.append(train_mse)\n",
    "        print(f'Epoch: {e+1:03d}/{num_epochs:03d} '\n",
    "              f'| Train MSE: {train_mse:.2f} '\n",
    "              f'| Train Acc: {train_acc:.2f}% '\n",
    "              f'| Valid Acc: {valid_acc:.2f}%')\n",
    "\n",
    "    return epoch_loss, epoch_train_acc, epoch_valid_acc"
   ]
  },
  {
   "cell_type": "code",
   "execution_count": 127,
   "metadata": {},
   "outputs": [
    {
     "name": "stdout",
     "output_type": "stream",
     "text": [
      "Epoch: 001/050 | Train MSE: 0.09 | Train Acc: 18.53% | Valid Acc: 18.50%\n",
      "Epoch: 002/050 | Train MSE: 0.09 | Train Acc: 28.39% | Valid Acc: 28.42%\n",
      "Epoch: 003/050 | Train MSE: 0.07 | Train Acc: 43.50% | Valid Acc: 43.94%\n",
      "Epoch: 004/050 | Train MSE: 0.06 | Train Acc: 63.36% | Valid Acc: 63.78%\n",
      "Epoch: 005/050 | Train MSE: 0.05 | Train Acc: 72.16% | Valid Acc: 71.82%\n",
      "Epoch: 006/050 | Train MSE: 0.04 | Train Acc: 83.30% | Valid Acc: 83.30%\n",
      "Epoch: 007/050 | Train MSE: 0.03 | Train Acc: 86.24% | Valid Acc: 86.02%\n",
      "Epoch: 008/050 | Train MSE: 0.02 | Train Acc: 87.77% | Valid Acc: 87.74%\n",
      "Epoch: 009/050 | Train MSE: 0.02 | Train Acc: 88.78% | Valid Acc: 88.74%\n",
      "Epoch: 010/050 | Train MSE: 0.02 | Train Acc: 89.42% | Valid Acc: 89.46%\n",
      "Epoch: 011/050 | Train MSE: 0.02 | Train Acc: 89.96% | Valid Acc: 89.94%\n",
      "Epoch: 012/050 | Train MSE: 0.02 | Train Acc: 90.39% | Valid Acc: 90.22%\n",
      "Epoch: 013/050 | Train MSE: 0.02 | Train Acc: 90.74% | Valid Acc: 90.60%\n",
      "Epoch: 014/050 | Train MSE: 0.02 | Train Acc: 91.21% | Valid Acc: 91.10%\n",
      "Epoch: 015/050 | Train MSE: 0.01 | Train Acc: 91.51% | Valid Acc: 91.28%\n",
      "Epoch: 016/050 | Train MSE: 0.01 | Train Acc: 91.71% | Valid Acc: 91.38%\n",
      "Epoch: 017/050 | Train MSE: 0.01 | Train Acc: 91.97% | Valid Acc: 91.58%\n",
      "Epoch: 018/050 | Train MSE: 0.01 | Train Acc: 92.21% | Valid Acc: 91.86%\n",
      "Epoch: 019/050 | Train MSE: 0.01 | Train Acc: 92.41% | Valid Acc: 92.06%\n",
      "Epoch: 020/050 | Train MSE: 0.01 | Train Acc: 92.66% | Valid Acc: 92.20%\n",
      "Epoch: 021/050 | Train MSE: 0.01 | Train Acc: 92.86% | Valid Acc: 92.56%\n",
      "Epoch: 022/050 | Train MSE: 0.01 | Train Acc: 93.03% | Valid Acc: 92.56%\n",
      "Epoch: 023/050 | Train MSE: 0.01 | Train Acc: 93.20% | Valid Acc: 92.76%\n",
      "Epoch: 024/050 | Train MSE: 0.01 | Train Acc: 93.39% | Valid Acc: 92.94%\n",
      "Epoch: 025/050 | Train MSE: 0.01 | Train Acc: 93.42% | Valid Acc: 92.82%\n",
      "Epoch: 026/050 | Train MSE: 0.01 | Train Acc: 93.73% | Valid Acc: 93.24%\n",
      "Epoch: 027/050 | Train MSE: 0.01 | Train Acc: 93.70% | Valid Acc: 92.98%\n",
      "Epoch: 028/050 | Train MSE: 0.01 | Train Acc: 94.01% | Valid Acc: 93.50%\n",
      "Epoch: 029/050 | Train MSE: 0.01 | Train Acc: 94.04% | Valid Acc: 93.46%\n",
      "Epoch: 030/050 | Train MSE: 0.01 | Train Acc: 94.30% | Valid Acc: 93.66%\n",
      "Epoch: 031/050 | Train MSE: 0.01 | Train Acc: 94.43% | Valid Acc: 93.84%\n",
      "Epoch: 032/050 | Train MSE: 0.01 | Train Acc: 94.45% | Valid Acc: 93.86%\n",
      "Epoch: 033/050 | Train MSE: 0.01 | Train Acc: 94.56% | Valid Acc: 93.92%\n",
      "Epoch: 034/050 | Train MSE: 0.01 | Train Acc: 94.73% | Valid Acc: 94.14%\n",
      "Epoch: 035/050 | Train MSE: 0.01 | Train Acc: 94.83% | Valid Acc: 94.14%\n",
      "Epoch: 036/050 | Train MSE: 0.01 | Train Acc: 94.89% | Valid Acc: 94.24%\n",
      "Epoch: 037/050 | Train MSE: 0.01 | Train Acc: 94.98% | Valid Acc: 94.32%\n",
      "Epoch: 038/050 | Train MSE: 0.01 | Train Acc: 95.15% | Valid Acc: 94.32%\n",
      "Epoch: 039/050 | Train MSE: 0.01 | Train Acc: 95.22% | Valid Acc: 94.44%\n",
      "Epoch: 040/050 | Train MSE: 0.01 | Train Acc: 95.30% | Valid Acc: 94.46%\n",
      "Epoch: 041/050 | Train MSE: 0.01 | Train Acc: 95.40% | Valid Acc: 94.60%\n",
      "Epoch: 042/050 | Train MSE: 0.01 | Train Acc: 95.46% | Valid Acc: 94.58%\n",
      "Epoch: 043/050 | Train MSE: 0.01 | Train Acc: 95.56% | Valid Acc: 94.56%\n",
      "Epoch: 044/050 | Train MSE: 0.01 | Train Acc: 95.60% | Valid Acc: 94.72%\n",
      "Epoch: 045/050 | Train MSE: 0.01 | Train Acc: 95.67% | Valid Acc: 94.80%\n",
      "Epoch: 046/050 | Train MSE: 0.01 | Train Acc: 95.79% | Valid Acc: 95.08%\n",
      "Epoch: 047/050 | Train MSE: 0.01 | Train Acc: 95.82% | Valid Acc: 94.96%\n",
      "Epoch: 048/050 | Train MSE: 0.01 | Train Acc: 95.93% | Valid Acc: 94.90%\n",
      "Epoch: 049/050 | Train MSE: 0.01 | Train Acc: 95.94% | Valid Acc: 94.94%\n",
      "Epoch: 050/050 | Train MSE: 0.01 | Train Acc: 95.99% | Valid Acc: 95.06%\n"
     ]
    }
   ],
   "source": [
    "np.random.seed(123) # for the training set shuffling\n",
    "\n",
    "epoch_loss, epoch_train_acc, epoch_valid_acc = train(\n",
    "    model, X_train, y_train, X_valid, y_valid,\n",
    "    num_epochs=50, learning_rate=0.1)"
   ]
  },
  {
   "cell_type": "markdown",
   "metadata": {},
   "source": [
    "## Evaluating the neural network performance"
   ]
  },
  {
   "cell_type": "code",
   "execution_count": 128,
   "metadata": {},
   "outputs": [
    {
     "data": {
      "image/png": "[encoded data removed]",
      "text/plain": [
       "<Figure size 640x480 with 1 Axes>"
      ]
     },
     "metadata": {},
     "output_type": "display_data"
    }
   ],
   "source": [
    "plt.plot(range(len(epoch_loss)), epoch_loss)\n",
    "plt.ylabel('Mean squared error')\n",
    "plt.xlabel('Epoch')\n",
    "plt.show()"
   ]
  },
  {
   "cell_type": "code",
   "execution_count": 129,
   "metadata": {},
   "outputs": [
    {
     "data": {
      "image/png": "[encoded data removed]",
      "text/plain": [
       "<Figure size 640x480 with 1 Axes>"
      ]
     },
     "metadata": {},
     "output_type": "display_data"
    }
   ],
   "source": [
    "plt.plot(range(len(epoch_train_acc)), epoch_train_acc,\n",
    "         label='Training')\n",
    "plt.plot(range(len(epoch_valid_acc)), epoch_valid_acc,\n",
    "         label='Validation')\n",
    "plt.ylabel('Accuracy')\n",
    "plt.xlabel('Epochs')\n",
    "plt.legend(loc='lower right')\n",
    "plt.show()"
   ]
  },
  {
   "cell_type": "code",
   "execution_count": 130,
   "metadata": {},
   "outputs": [
    {
     "name": "stdout",
     "output_type": "stream",
     "text": [
      "Test accuracy: 94.84%\n"
     ]
    }
   ],
   "source": [
    "test_mse, test_acc = compute_mse_and_acc(model, X_test, y_test)\n",
    "print(f'Test accuracy: {test_acc*100:.2f}%')"
   ]
  },
  {
   "cell_type": "markdown",
   "metadata": {},
   "source": [
    "Plot failure cases:"
   ]
  },
  {
   "cell_type": "code",
   "execution_count": 131,
   "metadata": {},
   "outputs": [
    {
     "ename": "ValueError",
     "evalue": "too many values to unpack (expected 2)",
     "output_type": "error",
     "traceback": [
      "\u001b[1;31m---------------------------------------------------------------------------\u001b[0m",
      "\u001b[1;31mValueError\u001b[0m                                Traceback (most recent call last)",
      "Cell \u001b[1;32mIn[131], line 4\u001b[0m\n\u001b[0;32m      1\u001b[0m X_test_subset \u001b[38;5;241m=\u001b[39m X_test[:\u001b[38;5;241m1000\u001b[39m, :]\n\u001b[0;32m      2\u001b[0m y_test_subset \u001b[38;5;241m=\u001b[39m y_test[:\u001b[38;5;241m1000\u001b[39m]\n\u001b[1;32m----> 4\u001b[0m _, probas \u001b[38;5;241m=\u001b[39m model\u001b[38;5;241m.\u001b[39mforward(X_test_subset)\n\u001b[0;32m      5\u001b[0m test_pred \u001b[38;5;241m=\u001b[39m np\u001b[38;5;241m.\u001b[39margmax(probas, axis\u001b[38;5;241m=\u001b[39m\u001b[38;5;241m1\u001b[39m)\n\u001b[0;32m      7\u001b[0m misclassified_images \u001b[38;5;241m=\u001b[39m X_test_subset[y_test_subset \u001b[38;5;241m!=\u001b[39m test_pred][:\u001b[38;5;241m25\u001b[39m]\n",
      "\u001b[1;31mValueError\u001b[0m: too many values to unpack (expected 2)"
     ]
    }
   ],
   "source": [
    "X_test_subset = X_test[:1000, :]\n",
    "y_test_subset = y_test[:1000]\n",
    "\n",
    "_, probas = model.forward(X_test_subset)\n",
    "test_pred = np.argmax(probas, axis=1)\n",
    "\n",
    "misclassified_images = X_test_subset[y_test_subset != test_pred][:25]\n",
    "misclassified_labels = test_pred[y_test_subset != test_pred][:25]\n",
    "correct_labels = y_test_subset[y_test_subset != test_pred][:25]"
   ]
  },
  {
   "cell_type": "code",
   "execution_count": null,
   "metadata": {},
   "outputs": [
    {
     "data": {
      "image/png": "[encoded data removed]",
      "text/plain": [
       "<Figure size 800x800 with 25 Axes>"
      ]
     },
     "metadata": {},
     "output_type": "display_data"
    }
   ],
   "source": [
    "fig, ax = plt.subplots(nrows=5, ncols=5, \n",
    "                       sharex=True, sharey=True, figsize=(8, 8))\n",
    "ax = ax.flatten()\n",
    "for i in range(25):\n",
    "    img = misclassified_images[i].reshape(28, 28)\n",
    "    ax[i].imshow(img, cmap='Greys', interpolation='nearest')\n",
    "    ax[i].set_title(f'{i+1}) '\n",
    "                    f'True: {correct_labels[i]}\\n'\n",
    "                    f' Predicted: {misclassified_labels[i]}')\n",
    "\n",
    "ax[0].set_xticks([])\n",
    "ax[0].set_yticks([])\n",
    "plt.tight_layout()\n",
    "#plt.savefig('figures/11_09.png', dpi=300)\n",
    "plt.show()"
   ]
  },
  {
   "cell_type": "markdown",
   "metadata": {},
   "source": [
    "---\n",
    "\n",
    "Readers may ignore the next cell."
   ]
  },
  {
   "cell_type": "code",
   "execution_count": null,
   "metadata": {},
   "outputs": [
    {
     "name": "stderr",
     "output_type": "stream",
     "text": [
      "python: can't open file 'c:\\\\Users\\\\idozi\\\\.convert_notebook_to_script.py': [Errno 2] No such file or directory\n"
     ]
    }
   ],
   "source": [
    "! python ../.convert_notebook_to_script.py --input ch11.ipynb --output ch11.py"
   ]
  }
 ],
 "metadata": {
  "anaconda-cloud": {},
  "kernelspec": {
   "display_name": "Python 3",
   "language": "python",
   "name": "python3"
  },
  "language_info": {
   "codemirror_mode": {
    "name": "ipython",
    "version": 3
   },
   "file_extension": ".py",
   "mimetype": "text/x-python",
   "name": "python",
   "nbconvert_exporter": "python",
   "pygments_lexer": "ipython3",
   "version": "3.11.9"
  }
 },
 "nbformat": 4,
 "nbformat_minor": 4
}
